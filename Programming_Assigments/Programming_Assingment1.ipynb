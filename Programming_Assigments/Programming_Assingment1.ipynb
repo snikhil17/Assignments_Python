{
  "nbformat": 4,
  "nbformat_minor": 0,
  "metadata": {
    "colab": {
      "name": "Programming_Assingment1.ipynb",
      "provenance": [],
      "authorship_tag": "ABX9TyN63NvW3m9VRsG6AUUpDgXo",
      "include_colab_link": true
    },
    "kernelspec": {
      "name": "python3",
      "display_name": "Python 3"
    },
    "language_info": {
      "name": "python"
    }
  },
  "cells": [
    {
      "cell_type": "markdown",
      "metadata": {
        "id": "view-in-github",
        "colab_type": "text"
      },
      "source": [
        "<a href=\"https://colab.research.google.com/github/snikhil17/Assignments_Python/blob/main/Programming_Assigments/Programming_Assingment1.ipynb\" target=\"_parent\"><img src=\"https://colab.research.google.com/assets/colab-badge.svg\" alt=\"Open In Colab\"/></a>"
      ]
    },
    {
      "cell_type": "markdown",
      "source": [
        "# **Programming_Assignment1**\n",
        "## **Write a Python program to print \"Hello Python\"?**"
      ],
      "metadata": {
        "id": "RmsptGBHASge"
      }
    },
    {
      "cell_type": "code",
      "execution_count": null,
      "metadata": {
        "colab": {
          "base_uri": "https://localhost:8080/"
        },
        "id": "4phpP0EkAFNa",
        "outputId": "e6dea886-7235-49fa-b915-356ea6fe357c"
      },
      "outputs": [
        {
          "output_type": "stream",
          "name": "stdout",
          "text": [
            "Do you want to print Hello World?\n",
            "no\n",
            "OK\n"
          ]
        }
      ],
      "source": [
        "def hello_world():\n",
        "  print(\"hello world\")\n",
        "\n",
        "\n",
        "print(\"Do you want to print Hello World?\")\n",
        "input_ = input()\n",
        "\n",
        "if input_ in ['no', \"don't\", \"No\"]:\n",
        "  print(\"OK\")\n",
        "else:\n",
        "  hello_world()"
      ]
    },
    {
      "cell_type": "markdown",
      "source": [
        "## **Write a Python program to do arithmetical operations addition and division.?**"
      ],
      "metadata": {
        "id": "v1eWtEUOAfCV"
      }
    },
    {
      "cell_type": "code",
      "source": [
        "def add_or_divide(num1, num2, operation):\n",
        "  if operation == 'divide':\n",
        "    return num1 / num2\n",
        "\n",
        "  elif operation == 'add':\n",
        "    return num1 +num2\n",
        "\n",
        "  elif operation == 'multiply':\n",
        "    return num1 * num2\n",
        "\n",
        "print(\"Arithmatic Operation Program\")\n",
        "num1 = int(input(\"Enter the first number: \"))\n",
        "num2 = int(input(\"Enter the second number: \"))\n",
        "opn = input(\"Add, Multiply or Divide these numbers ? \")\n",
        "\n",
        "result = add_or_divide(num1, num2, opn)\n",
        "if opn=='add':\n",
        "  opnn = \"+\"\n",
        "elif opn == 'divide':\n",
        "  opnn = \"/\"   \n",
        "elif opn == 'multiply':\n",
        "   opnn = \"x\"\n",
        "print(f\"{num1} {opnn} {num2} = {result}\")"
      ],
      "metadata": {
        "colab": {
          "base_uri": "https://localhost:8080/"
        },
        "id": "cQdCqMQQAccL",
        "outputId": "b7404925-834c-4d18-f1cf-6ec8658fab48"
      },
      "execution_count": 13,
      "outputs": [
        {
          "output_type": "stream",
          "name": "stdout",
          "text": [
            "Arithmatic Operation Program\n",
            "Enter the first number: 5\n",
            "Enter the second number: 20\n",
            "Add, Multiply or Divide these numbers ? multiply\n",
            "5 x 20 = 100\n"
          ]
        }
      ]
    },
    {
      "cell_type": "markdown",
      "source": [
        "## **Write a Python program to find the area of a triangle?**\n",
        "Area of Triangle: $ \\large \\frac{1}{2} * Base \\times  Height  $"
      ],
      "metadata": {
        "id": "CiQ6VusSDVkw"
      }
    },
    {
      "cell_type": "code",
      "source": [
        "def area_of_triangle(base, height):\n",
        "  return (1/2 * base * height)\n",
        "\n",
        "print(\"Area of Triangle Claculator\")\n",
        "base = int(input(\"Enter the base length of the triangle: \"))\n",
        "height = int(input(\"Enter the height of the triangle: \"))\n",
        "\n",
        "print(f\"Area of given Triangle is {int(area_of_triangle(base, height))}\")"
      ],
      "metadata": {
        "id": "UySdaZvpCQNZ",
        "colab": {
          "base_uri": "https://localhost:8080/"
        },
        "outputId": "97997aca-4962-4302-fc85-562a178d7e15"
      },
      "execution_count": 15,
      "outputs": [
        {
          "output_type": "stream",
          "name": "stdout",
          "text": [
            "Area of Triangle Claculator\n",
            "Enter the base length of the triangle: 52\n",
            "Enter the height of the triangle: 30\n",
            "Area of given Triangle is 780\n"
          ]
        }
      ]
    },
    {
      "cell_type": "markdown",
      "source": [
        "## **Write a Python program to swap two variables?**"
      ],
      "metadata": {
        "id": "y-8vwBOBL1nK"
      }
    },
    {
      "cell_type": "code",
      "source": [
        "a = 3\n",
        "id(a\n",
        "   )"
      ],
      "metadata": {
        "colab": {
          "base_uri": "https://localhost:8080/"
        },
        "id": "e2hHGnScNYXS",
        "outputId": "c11d95f4-3726-428d-cf22-5551836828aa"
      },
      "execution_count": 17,
      "outputs": [
        {
          "output_type": "execute_result",
          "data": {
            "text/plain": [
              "94722339945024"
            ]
          },
          "metadata": {},
          "execution_count": 17
        }
      ]
    },
    {
      "cell_type": "code",
      "source": [
        "def swap_variables(first_variable, second_variable):\n",
        "  second_variable, first_variable = first_variable, second_variable\n",
        "  return first_variable, second_variable\n",
        "  \n",
        "  \n",
        "\n",
        "print(\"Swap Variables\")\n",
        "first_variable = input(\"Enter any value (int or string): \")\n",
        "second_variable = input(\"Enter another value (int or string): \")\n",
        "\n",
        "swaped_first_variable, swaped_second_variable =swap_variables(first_variable, second_variable)\n",
        "print()\n",
        "print(f\"First varible (before swap) {first_variable} and Second varible (after swap) {swaped_second_variable}\")\n",
        "print(f\"First varible (before swap) {second_variable} Second varible (after swap) {swaped_first_variable}\")\n",
        "print()\n",
        "print(f\"ID of first varible (before swap) {id(first_variable)} and ID of second varible (after swap) {id(swaped_second_variable)}\")\n",
        "print(f\"ID of second varible (before swap) {id(second_variable)} and ID of first varible (after swap) {id(swaped_first_variable)}\")\n"
      ],
      "metadata": {
        "colab": {
          "base_uri": "https://localhost:8080/"
        },
        "id": "ChY6A8HTLpap",
        "outputId": "894b85a7-c44a-4085-e2db-56977e4cbcc1"
      },
      "execution_count": 22,
      "outputs": [
        {
          "output_type": "stream",
          "name": "stdout",
          "text": [
            "Swap Variables\n",
            "Enter any value (int or string): 23\n",
            "Enter another value (int or string): 66\n",
            "\n",
            "First varible (before swap) 23 and Second varible (after swap) 23\n",
            "First varible (before swap) 66 Second varible (after swap) 66\n",
            "\n",
            "ID of first varible (before swap) 140094898603888 and ID of second varible (after swap) 140094898603888\n",
            "ID of second varible (before swap) 140094898220400 and ID of first varible (after swap) 140094898220400\n"
          ]
        }
      ]
    },
    {
      "cell_type": "markdown",
      "source": [
        "## **Write a Python program to generate a random number?**"
      ],
      "metadata": {
        "id": "LE3RrHNCO6VS"
      }
    },
    {
      "cell_type": "code",
      "source": [
        "def random_number():\n",
        "  import time\n",
        "  present_sec = int(time.localtime(time.time()).tm_sec)\n",
        "  sign  = \"+\" if present_sec%2 ==0 else \"-\"  \n",
        "  if present_sec > 30 and sign == \"-\":\n",
        "    return (int((present_sec*3 - (present_sec))))\n",
        "  elif present_sec < 30 and sign == \"-\":\n",
        "    return (int((present_sec*5 - present_sec)))\n",
        "  if present_sec > 30 and sign == \"+\":\n",
        "    return (int((present_sec*2 + (3*present_sec))))\n",
        "  elif present_sec < 30 and sign == \"+\":\n",
        "    return (int((present_sec+present_sec)))\n",
        "  else:\n",
        "    return present_sec+present_sec\n",
        "\n",
        "\n",
        "\n",
        "print(f\"Random Number (integer): {random_number()}\")\n"
      ],
      "metadata": {
        "colab": {
          "base_uri": "https://localhost:8080/"
        },
        "id": "8U_OYEmtOTnW",
        "outputId": "872eb3fe-8e2d-46b1-f604-b1ff3255a852"
      },
      "execution_count": 220,
      "outputs": [
        {
          "output_type": "stream",
          "name": "stdout",
          "text": [
            "Random Number (integer): 44\n"
          ]
        }
      ]
    }
  ]
}